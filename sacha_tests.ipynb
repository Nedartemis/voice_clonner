{
  "cells": [
    {
      "cell_type": "markdown",
      "metadata": {
        "id": "625iNFdglRLl"
      },
      "source": [
        "# Tutoriel clonage de voix"
      ]
    },
    {
      "cell_type": "code",
      "execution_count": 3,
      "metadata": {
        "id": "-W6zXiApj43S"
      },
      "outputs": [
        {
          "name": "stdout",
          "output_type": "stream",
          "text": [
            "Requirement already satisfied: librosa in ./.venv/lib/python3.10/site-packages (from -r requirements.txt (line 1)) (0.10.2.post1)\n",
            "Requirement already satisfied: audioread in ./.venv/lib/python3.10/site-packages (from -r requirements.txt (line 2)) (3.0.1)\n",
            "Requirement already satisfied: soundfile in ./.venv/lib/python3.10/site-packages (from -r requirements.txt (line 3)) (0.12.1)\n",
            "Requirement already satisfied: numpy in ./.venv/lib/python3.10/site-packages (from -r requirements.txt (line 4)) (2.0.2)\n",
            "Requirement already satisfied: scipy in ./.venv/lib/python3.10/site-packages (from -r requirements.txt (line 5)) (1.14.1)\n",
            "Requirement already satisfied: scikit-learn>=0.20.0 in ./.venv/lib/python3.10/site-packages (from librosa->-r requirements.txt (line 1)) (1.5.2)\n",
            "Requirement already satisfied: numba>=0.51.0 in ./.venv/lib/python3.10/site-packages (from librosa->-r requirements.txt (line 1)) (0.60.0)\n",
            "Requirement already satisfied: decorator>=4.3.0 in ./.venv/lib/python3.10/site-packages (from librosa->-r requirements.txt (line 1)) (5.1.1)\n",
            "Requirement already satisfied: soxr>=0.3.2 in ./.venv/lib/python3.10/site-packages (from librosa->-r requirements.txt (line 1)) (0.5.0.post1)\n",
            "Requirement already satisfied: lazy-loader>=0.1 in ./.venv/lib/python3.10/site-packages (from librosa->-r requirements.txt (line 1)) (0.4)\n",
            "Requirement already satisfied: msgpack>=1.0 in ./.venv/lib/python3.10/site-packages (from librosa->-r requirements.txt (line 1)) (1.1.0)\n",
            "Requirement already satisfied: joblib>=0.14 in ./.venv/lib/python3.10/site-packages (from librosa->-r requirements.txt (line 1)) (1.4.2)\n",
            "Requirement already satisfied: typing-extensions>=4.1.1 in ./.venv/lib/python3.10/site-packages (from librosa->-r requirements.txt (line 1)) (4.12.2)\n",
            "Requirement already satisfied: pooch>=1.1 in ./.venv/lib/python3.10/site-packages (from librosa->-r requirements.txt (line 1)) (1.8.2)\n",
            "Requirement already satisfied: cffi>=1.0 in ./.venv/lib/python3.10/site-packages (from soundfile->-r requirements.txt (line 3)) (1.17.1)\n",
            "Requirement already satisfied: pycparser in ./.venv/lib/python3.10/site-packages (from cffi>=1.0->soundfile->-r requirements.txt (line 3)) (2.22)\n",
            "Requirement already satisfied: packaging in ./.venv/lib/python3.10/site-packages (from lazy-loader>=0.1->librosa->-r requirements.txt (line 1)) (24.1)\n",
            "Requirement already satisfied: llvmlite<0.44,>=0.43.0dev0 in ./.venv/lib/python3.10/site-packages (from numba>=0.51.0->librosa->-r requirements.txt (line 1)) (0.43.0)\n",
            "Requirement already satisfied: requests>=2.19.0 in ./.venv/lib/python3.10/site-packages (from pooch>=1.1->librosa->-r requirements.txt (line 1)) (2.32.3)\n",
            "Requirement already satisfied: platformdirs>=2.5.0 in ./.venv/lib/python3.10/site-packages (from pooch>=1.1->librosa->-r requirements.txt (line 1)) (4.3.2)\n",
            "Requirement already satisfied: threadpoolctl>=3.1.0 in ./.venv/lib/python3.10/site-packages (from scikit-learn>=0.20.0->librosa->-r requirements.txt (line 1)) (3.5.0)\n",
            "Requirement already satisfied: urllib3<3,>=1.21.1 in ./.venv/lib/python3.10/site-packages (from requests>=2.19.0->pooch>=1.1->librosa->-r requirements.txt (line 1)) (2.2.3)\n",
            "Requirement already satisfied: charset-normalizer<4,>=2 in ./.venv/lib/python3.10/site-packages (from requests>=2.19.0->pooch>=1.1->librosa->-r requirements.txt (line 1)) (3.3.2)\n",
            "Requirement already satisfied: certifi>=2017.4.17 in ./.venv/lib/python3.10/site-packages (from requests>=2.19.0->pooch>=1.1->librosa->-r requirements.txt (line 1)) (2024.8.30)\n",
            "Requirement already satisfied: idna<4,>=2.5 in ./.venv/lib/python3.10/site-packages (from requests>=2.19.0->pooch>=1.1->librosa->-r requirements.txt (line 1)) (3.8)\n",
            "\n",
            "\u001b[1m[\u001b[0m\u001b[34;49mnotice\u001b[0m\u001b[1;39;49m]\u001b[0m\u001b[39;49m A new release of pip is available: \u001b[0m\u001b[31;49m23.0.1\u001b[0m\u001b[39;49m -> \u001b[0m\u001b[32;49m24.2\u001b[0m\n",
            "\u001b[1m[\u001b[0m\u001b[34;49mnotice\u001b[0m\u001b[1;39;49m]\u001b[0m\u001b[39;49m To update, run: \u001b[0m\u001b[32;49mpip install --upgrade pip\u001b[0m\n"
          ]
        }
      ],
      "source": [
        "#@title Installation des bibliothèques nécessaires\n",
        "!source .venv/bin/activate\n",
        "!pip install -r requirements.txt"
      ]
    },
    {
      "cell_type": "code",
      "execution_count": 13,
      "metadata": {
        "id": "wZpP-4fwl4uK"
      },
      "outputs": [],
      "source": [
        "#@title Importation des bibliothèques\n",
        "\n",
        "import librosa\n",
        "import soundfile\n",
        "import numpy as np\n",
        "from scipy.signal import lfilter\n",
        "from IPython.display import Audio\n",
        "\n",
        "import os"
      ]
    },
    {
      "cell_type": "code",
      "execution_count": 7,
      "metadata": {},
      "outputs": [
        {
          "name": "stdout",
          "output_type": "stream",
          "text": [
            "common_voice_en_39586336.mp3\n",
            "common_voice_en_39586337.mp3\n",
            "common_voice_en_39586338.mp3\n",
            "common_voice_en_39586339.mp3\n",
            "common_voice_en_39586340.mp3\n",
            "ls: write error: Broken pipe\n"
          ]
        }
      ],
      "source": [
        "!ls data/mozilla/cv-corpus-17.0-delta-2024-03-15/en/clips/ | head -n 5"
      ]
    },
    {
      "cell_type": "code",
      "execution_count": 10,
      "metadata": {},
      "outputs": [
        {
          "name": "stdout",
          "output_type": "stream",
          "text": [
            "Nb files = 43205\n",
            "source_mp3 = './data/mozilla/cv-corpus-17.0-delta-2024-03-15/en/clips/common_voice_en_40180492.mp3'\n"
          ]
        }
      ],
      "source": [
        "PATH = \"./data/mozilla/cv-corpus-17.0-delta-2024-03-15/en/clips/\"\n",
        "files = [os.path.join(PATH, file) for file in os.listdir(PATH) if file.endswith(\".mp3\")]\n",
        "print(\"Nb files =\", len(files))\n",
        "source_mp3 = files[0]\n",
        "cible_mp3 = files[1]\n",
        "print(f\"source_mp3 = '{source_mp3}'\")"
      ]
    },
    {
      "cell_type": "code",
      "execution_count": 12,
      "metadata": {
        "colab": {
          "base_uri": "https://localhost:8080/",
          "height": 547
        },
        "id": "r0Irdz3Gl5J1",
        "outputId": "7b124b17-2d69-4df4-d777-c58006763ff1"
      },
      "outputs": [],
      "source": [
        "#@title Chargement des échantillons audio\n",
        "\n",
        "# Charger l'audio de la voix source et de la voix cible\n",
        "source_audio, source_sr = librosa.load(source_mp3, sr=None)\n",
        "target_audio, target_sr = librosa.load(cible_mp3, sr=None)\n",
        "\n",
        "# Assurez-vous que les deux échantillons audio ont le même taux d'échantillonnage\n",
        "if source_sr != target_sr:\n",
        "    target_audio = librosa.resample(target_audio, target_sr, source_sr)\n",
        "    print(\"Resampling : done\")\n"
      ]
    },
    {
      "cell_type": "code",
      "execution_count": null,
      "metadata": {},
      "outputs": [],
      "source": [
        "Audio(data=source_audio, rate=source_sr)"
      ]
    },
    {
      "cell_type": "code",
      "execution_count": null,
      "metadata": {
        "id": "tpxr96lBl6W-"
      },
      "outputs": [],
      "source": [
        "#@title Extraction des caractéristiques vocales\n",
        "\n",
        "# Extraire les caractéristiques pertinentes (par exemple, MFCCs) de la voix source et de la voix cible\n",
        "source_features = librosa.feature.mfcc(y=source_audio, sr=source_sr)\n",
        "target_features = librosa.feature.mfcc(y=target_audio, sr=source_sr)"
      ]
    },
    {
      "cell_type": "code",
      "execution_count": null,
      "metadata": {
        "id": "m_Wb_-mgl8J5"
      },
      "outputs": [],
      "source": [
        "#@title Modélisation de la conversion vocale (simplifié)\n",
        "\n",
        "# Cette étape est conceptuelle et nécessiterait un modèle de conversion vocale entraîné\n",
        "# Ici, nous utilisons un filtrage simple pour illustrer l'idée\n",
        "\n",
        "# Appliquer un filtre basé sur les caractéristiques de la voix cible à l'audio source\n",
        "converted_audio = lfilter(target_features.mean(axis=1), [1.0], source_audio)"
      ]
    },
    {
      "cell_type": "code",
      "execution_count": null,
      "metadata": {
        "id": "ozGmQ_RQl_F9"
      },
      "outputs": [],
      "source": [
        "#@title Écoute et sauvegarde de l'audio converti\n",
        "\n",
        "# Écouter l'audio converti (si l'environnement le permet)\n",
        "from IPython.display import Audio\n",
        "Audio(converted_audio, rate=source_sr)\n",
        "\n",
        "# Sauvegarder l'audio converti\n",
        "soundfile.write(\"voix_convertie.wav\", converted_audio, source_sr)"
      ]
    }
  ],
  "metadata": {
    "accelerator": "GPU",
    "colab": {
      "gpuType": "T4",
      "provenance": []
    },
    "kernelspec": {
      "display_name": "Python 3",
      "name": "python3"
    },
    "language_info": {
      "codemirror_mode": {
        "name": "ipython",
        "version": 3
      },
      "file_extension": ".py",
      "mimetype": "text/x-python",
      "name": "python",
      "nbconvert_exporter": "python",
      "pygments_lexer": "ipython3",
      "version": "3.10.14"
    }
  },
  "nbformat": 4,
  "nbformat_minor": 0
}
